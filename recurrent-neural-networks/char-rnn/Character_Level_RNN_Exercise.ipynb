{
  "nbformat": 4,
  "nbformat_minor": 0,
  "metadata": {
    "colab": {
      "name": "Character_Level_RNN_Exercise.ipynb",
      "version": "0.3.2",
      "provenance": [],
      "toc_visible": true
    },
    "kernelspec": {
      "name": "python3",
      "display_name": "Python 3"
    },
    "accelerator": "GPU"
  },
  "cells": [
    {
      "metadata": {
        "id": "neraGa1jb0YD",
        "colab_type": "text"
      },
      "cell_type": "markdown",
      "source": [
        "# Character-Level LSTM in PyTorch\n",
        "\n",
        "In this notebook, I'll construct a character-level LSTM with PyTorch. The network will train character by character on some text, then generate new text character by character. As an example, I will train on Anna Karenina. **This model will be able to generate new text based on the text from the book!**\n",
        "\n",
        "This network is based off of Andrej Karpathy's [post on RNNs](http://karpathy.github.io/2015/05/21/rnn-effectiveness/) and [implementation in Torch](https://github.com/karpathy/char-rnn). Below is the general architecture of the character-wise RNN.\n",
        "\n",
        "<img src=\"https://github.com/subodhkhanger/deep-learning-v2-pytorch/blob/master/recurrent-neural-networks/char-rnn/assets/charseq.jpeg?raw=1\" width=\"500\">"
      ]
    },
    {
      "metadata": {
        "id": "RAyj229Lb0YF",
        "colab_type": "text"
      },
      "cell_type": "markdown",
      "source": [
        "First let's load in our required resources for data loading and model creation."
      ]
    },
    {
      "metadata": {
        "id": "c9DaYdkib0YG",
        "colab_type": "code",
        "colab": {}
      },
      "cell_type": "code",
      "source": [
        "import numpy as np\n",
        "import torch\n",
        "from torch import nn\n",
        "import torch.nn.functional as F"
      ],
      "execution_count": 0,
      "outputs": []
    },
    {
      "metadata": {
        "id": "twRd0KlwcXQi",
        "colab_type": "code",
        "colab": {
          "base_uri": "https://localhost:8080/",
          "height": 309
        },
        "outputId": "2e7959d6-aea5-47a4-c78a-04241cfbe450"
      },
      "cell_type": "code",
      "source": [
        "!mkdir -p data\n",
        "!wget -c https://github.com/udacity/deep-learning-v2-pytorch/raw/master/recurrent-neural-networks/char-rnn/data/anna.txt -O data/anna.txt"
      ],
      "execution_count": 8,
      "outputs": [
        {
          "output_type": "stream",
          "text": [
            "--2019-01-03 11:24:24--  https://github.com/udacity/deep-learning-v2-pytorch/raw/master/recurrent-neural-networks/char-rnn/data/anna.txt\n",
            "Resolving github.com (github.com)... 192.30.255.113, 192.30.255.112\n",
            "Connecting to github.com (github.com)|192.30.255.113|:443... connected.\n",
            "HTTP request sent, awaiting response... 302 Found\n",
            "Location: https://raw.githubusercontent.com/udacity/deep-learning-v2-pytorch/master/recurrent-neural-networks/char-rnn/data/anna.txt [following]\n",
            "--2019-01-03 11:24:25--  https://raw.githubusercontent.com/udacity/deep-learning-v2-pytorch/master/recurrent-neural-networks/char-rnn/data/anna.txt\n",
            "Resolving raw.githubusercontent.com (raw.githubusercontent.com)... 151.101.0.133, 151.101.64.133, 151.101.128.133, ...\n",
            "Connecting to raw.githubusercontent.com (raw.githubusercontent.com)|151.101.0.133|:443... connected.\n",
            "HTTP request sent, awaiting response... 200 OK\n",
            "Length: 2025486 (1.9M) [text/plain]\n",
            "Saving to: ‘data/anna.txt’\n",
            "\n",
            "\rdata/anna.txt         0%[                    ]       0  --.-KB/s               \rdata/anna.txt       100%[===================>]   1.93M  --.-KB/s    in 0.05s   \n",
            "\n",
            "2019-01-03 11:24:25 (37.8 MB/s) - ‘data/anna.txt’ saved [2025486/2025486]\n",
            "\n"
          ],
          "name": "stdout"
        }
      ]
    },
    {
      "metadata": {
        "id": "gc52CsY2cDqG",
        "colab_type": "code",
        "colab": {
          "base_uri": "https://localhost:8080/",
          "height": 54
        },
        "outputId": "8df5edae-5937-4fe4-f8bb-7df62ad7ed93"
      },
      "cell_type": "code",
      "source": [
        "# http://pytorch.org/\n",
        "from os.path import exists\n",
        "from wheel.pep425tags import get_abbr_impl, get_impl_ver, get_abi_tag\n",
        "platform = '{}{}-{}'.format(get_abbr_impl(), get_impl_ver(), get_abi_tag())\n",
        "cuda_output = !ldconfig -p|grep cudart.so|sed -e 's/.*\\.\\([0-9]*\\)\\.\\([0-9]*\\)$/cu\\1\\2/'\n",
        "accelerator = cuda_output[0] if exists('/dev/nvidia0') else 'cpu'\n",
        "\n",
        "!pip install -q http://download.pytorch.org/whl/{accelerator}/torch-0.4.1-{platform}-linux_x86_64.whl torchvision\n",
        "import torch"
      ],
      "execution_count": 2,
      "outputs": [
        {
          "output_type": "stream",
          "text": [
            "tcmalloc: large alloc 1073750016 bytes == 0x57472000 @  0x7fa13a4ba2a4 0x591a07 0x5b5d56 0x502e9a 0x506859 0x502209 0x502f3d 0x506859 0x504c28 0x502540 0x502f3d 0x506859 0x504c28 0x502540 0x502f3d 0x506859 0x504c28 0x502540 0x502f3d 0x507641 0x502209 0x502f3d 0x506859 0x504c28 0x502540 0x502f3d 0x507641 0x504c28 0x502540 0x502f3d 0x507641\n"
          ],
          "name": "stdout"
        }
      ]
    },
    {
      "metadata": {
        "id": "OisQ5kCjb0YI",
        "colab_type": "text"
      },
      "cell_type": "markdown",
      "source": [
        "## Load in Data\n",
        "\n",
        "Then, we'll load the Anna Karenina text file and convert it into integers for our network to use. "
      ]
    },
    {
      "metadata": {
        "id": "iLMpZpYEb0YK",
        "colab_type": "code",
        "colab": {}
      },
      "cell_type": "code",
      "source": [
        "# open text file and read in data as `text`\n",
        "with open('data/anna.txt', 'r') as f:\n",
        "    text = f.read()"
      ],
      "execution_count": 0,
      "outputs": []
    },
    {
      "metadata": {
        "id": "1RxtN5ffb0YM",
        "colab_type": "text"
      },
      "cell_type": "markdown",
      "source": [
        "Let's check out the first 100 characters, make sure everything is peachy. According to the [American Book Review](http://americanbookreview.org/100bestlines.asp), this is the 6th best first line of a book ever."
      ]
    },
    {
      "metadata": {
        "id": "SKsqZ-ytb0YM",
        "colab_type": "code",
        "colab": {
          "base_uri": "https://localhost:8080/",
          "height": 34
        },
        "outputId": "3703a583-335f-424d-8469-b3a2714ad63b"
      },
      "cell_type": "code",
      "source": [
        "text[:100]"
      ],
      "execution_count": 11,
      "outputs": [
        {
          "output_type": "execute_result",
          "data": {
            "text/plain": [
              "'Chapter 1\\n\\n\\nHappy families are all alike; every unhappy family is unhappy in its own\\nway.\\n\\nEverythin'"
            ]
          },
          "metadata": {
            "tags": []
          },
          "execution_count": 11
        }
      ]
    },
    {
      "metadata": {
        "id": "keMTS0F7b0YO",
        "colab_type": "text"
      },
      "cell_type": "markdown",
      "source": [
        "### Tokenization\n",
        "\n",
        "In the cells, below, I'm creating a couple **dictionaries** to convert the characters to and from integers. Encoding the characters as integers makes it easier to use as input in the network."
      ]
    },
    {
      "metadata": {
        "id": "E06QUvkeb0YO",
        "colab_type": "code",
        "colab": {}
      },
      "cell_type": "code",
      "source": [
        "# encode the text and map each character to an integer and vice versa\n",
        "\n",
        "# we create two dictionaries:\n",
        "# 1. int2char, which maps integers to characters\n",
        "# 2. char2int, which maps characters to unique integers\n",
        "chars = tuple(set(text))\n",
        "int2char = dict(enumerate(chars))\n",
        "char2int = {ch: ii for ii, ch in int2char.items()}\n",
        "\n",
        "# encode the text\n",
        "encoded = np.array([char2int[ch] for ch in text])"
      ],
      "execution_count": 0,
      "outputs": []
    },
    {
      "metadata": {
        "id": "WDJOepBYb0YR",
        "colab_type": "text"
      },
      "cell_type": "markdown",
      "source": [
        "And we can see those same characters from above, encoded as integers."
      ]
    },
    {
      "metadata": {
        "id": "HqewsgzTb0YR",
        "colab_type": "code",
        "colab": {
          "base_uri": "https://localhost:8080/",
          "height": 119
        },
        "outputId": "1d0025bc-171c-4e17-b9a0-6346901a0932"
      },
      "cell_type": "code",
      "source": [
        "encoded[:100]"
      ],
      "execution_count": 13,
      "outputs": [
        {
          "output_type": "execute_result",
          "data": {
            "text/plain": [
              "array([57, 82, 11, 74, 68,  4, 13, 14, 33, 61, 61, 61, 73, 11, 74, 74, 41,\n",
              "       14, 60, 11, 40, 49, 19, 49,  4, 44, 14, 11, 13,  4, 14, 11, 19, 19,\n",
              "       14, 11, 19, 49, 10,  4, 12, 14,  4, 69,  4, 13, 41, 14, 51, 22, 82,\n",
              "       11, 74, 74, 41, 14, 60, 11, 40, 49, 19, 41, 14, 49, 44, 14, 51, 22,\n",
              "       82, 11, 74, 74, 41, 14, 49, 22, 14, 49, 68, 44, 14,  7, 15, 22, 61,\n",
              "       15, 11, 41, 37, 61, 61, 50, 69,  4, 13, 41, 68, 82, 49, 22])"
            ]
          },
          "metadata": {
            "tags": []
          },
          "execution_count": 13
        }
      ]
    },
    {
      "metadata": {
        "id": "JyMEpF_Yb0YT",
        "colab_type": "text"
      },
      "cell_type": "markdown",
      "source": [
        "## Pre-processing the data\n",
        "\n",
        "As you can see in our char-RNN image above, our LSTM expects an input that is **one-hot encoded** meaning that each character is converted into an integer (via our created dictionary) and *then* converted into a column vector where only it's corresponding integer index will have the value of 1 and the rest of the vector will be filled with 0's. Since we're one-hot encoding the data, let's make a function to do that!\n"
      ]
    },
    {
      "metadata": {
        "id": "BrshVq7Eb0YV",
        "colab_type": "code",
        "colab": {}
      },
      "cell_type": "code",
      "source": [
        "def one_hot_encode(arr, n_labels):\n",
        "    \n",
        "    # Initialize the the encoded array\n",
        "    one_hot = np.zeros((np.multiply(*arr.shape), n_labels), dtype=np.float32)\n",
        "    \n",
        "    # Fill the appropriate elements with ones\n",
        "    one_hot[np.arange(one_hot.shape[0]), arr.flatten()] = 1.\n",
        "    \n",
        "    # Finally reshape it to get back to the original array\n",
        "    one_hot = one_hot.reshape((*arr.shape, n_labels))\n",
        "    \n",
        "    return one_hot"
      ],
      "execution_count": 0,
      "outputs": []
    },
    {
      "metadata": {
        "id": "ubZuGMnJfrER",
        "colab_type": "code",
        "colab": {
          "base_uri": "https://localhost:8080/",
          "height": 34
        },
        "outputId": "ad6c7b4c-b657-4070-c646-b8194f6f8953"
      },
      "cell_type": "code",
      "source": [
        "arr1 =np.zeros((3, 8),dtype=np.float32)\n",
        "arr2=np.array([[3, 5, 1]])\n",
        "arr1[[0,1,2],[3 5 1]]=1\n",
        "print(arr2.flatten())"
      ],
      "execution_count": 36,
      "outputs": [
        {
          "output_type": "stream",
          "text": [
            "[3 5 1]\n"
          ],
          "name": "stdout"
        }
      ]
    },
    {
      "metadata": {
        "id": "oR27xbLPb0YY",
        "colab_type": "code",
        "colab": {
          "base_uri": "https://localhost:8080/",
          "height": 68
        },
        "outputId": "e44f9d38-1039-4cfd-b6b2-9bd1db9942bf"
      },
      "cell_type": "code",
      "source": [
        "# check that the function works as expected\n",
        "test_seq = np.array([[3, 5, 1]])\n",
        "one_hot = one_hot_encode(test_seq, 8)\n",
        "\n",
        "print(one_hot)"
      ],
      "execution_count": 38,
      "outputs": [
        {
          "output_type": "stream",
          "text": [
            "[[[0. 0. 0. 1. 0. 0. 0. 0.]\n",
            "  [0. 0. 0. 0. 0. 1. 0. 0.]\n",
            "  [0. 1. 0. 0. 0. 0. 0. 0.]]]\n"
          ],
          "name": "stdout"
        }
      ]
    },
    {
      "metadata": {
        "id": "jFfJT71Ob0Yd",
        "colab_type": "text"
      },
      "cell_type": "markdown",
      "source": [
        "## Making training mini-batches\n",
        "\n",
        "\n",
        "To train on this data, we also want to create mini-batches for training. Remember that we want our batches to be multiple sequences of some desired number of sequence steps. Considering a simple example, our batches would look like this:\n",
        "\n",
        "<img src=\"https://github.com/subodhkhanger/deep-learning-v2-pytorch/blob/master/recurrent-neural-networks/char-rnn/assets/sequence_batching@1x.png?raw=1\" width=500px>\n",
        "\n",
        "\n",
        "<br>\n",
        "\n",
        "In this example, we'll take the encoded characters (passed in as the `arr` parameter) and split them into multiple sequences, given by `batch_size`. Each of our sequences will be `seq_length` long.\n",
        "\n",
        "### Creating Batches\n",
        "\n",
        "**1. The first thing we need to do is discard some of the text so we only have completely full mini-batches. **\n",
        "\n",
        "Each batch contains $N \\times M$ characters, where $N$ is the batch size (the number of sequences in a batch) and $M$ is the seq_length or number of time steps in a sequence. Then, to get the total number of batches, $K$, that we can make from the array `arr`, you divide the length of `arr` by the number of characters per batch. Once you know the number of batches, you can get the total number of characters to keep from `arr`, $N * M * K$.\n",
        "\n",
        "**2. After that, we need to split `arr` into $N$ batches. ** \n",
        "\n",
        "You can do this using `arr.reshape(size)` where `size` is a tuple containing the dimensions sizes of the reshaped array. We know we want $N$ sequences in a batch, so let's make that the size of the first dimension. For the second dimension, you can use `-1` as a placeholder in the size, it'll fill up the array with the appropriate data for you. After this, you should have an array that is $N \\times (M * K)$.\n",
        "\n",
        "**3. Now that we have this array, we can iterate through it to get our mini-batches. **\n",
        "\n",
        "The idea is each batch is a $N \\times M$ window on the $N \\times (M * K)$ array. For each subsequent batch, the window moves over by `seq_length`. We also want to create both the input and target arrays. Remember that the targets are just the inputs shifted over by one character. The way I like to do this window is use `range` to take steps of size `n_steps` from $0$ to `arr.shape[1]`, the total number of tokens in each sequence. That way, the integers you get from `range` always point to the start of a batch, and each window is `seq_length` wide.\n",
        "\n",
        "> **TODO:** Write the code for creating batches in the function below. The exercises in this notebook _will not be easy_. I've provided a notebook with solutions alongside this notebook. If you get stuck, checkout the solutions. The most important thing is that you don't copy and paste the code into here, **type out the solution code yourself.**"
      ]
    },
    {
      "metadata": {
        "id": "4tiHZRBDb0Ye",
        "colab_type": "code",
        "colab": {}
      },
      "cell_type": "code",
      "source": [
        "def get_batches(arr, batch_size, seq_length):\n",
        "    '''Create a generator that returns batches of size\n",
        "       batch_size x seq_length from arr.\n",
        "       \n",
        "       Arguments\n",
        "       ---------\n",
        "       arr: Array you want to make batches from\n",
        "       batch_size: Batch size, the number of sequences per batch\n",
        "       seq_length: Number of encoded chars in a sequence\n",
        "    '''\n",
        "    \n",
        "    ## TODO: Get the number of batches we can make\n",
        "    n_batches =len(arr)// (batch_size*seq_length)\n",
        "    \n",
        "    ## TODO: Keep only enough characters to make full batches\n",
        "    arr = arr[:batch_size*seq_length*n_batches]\n",
        "    \n",
        "    ## TODO: Reshape into batch_size rows\n",
        "    arr = arr.reshape((batch_size, -1))\n",
        "    \n",
        "    ## TODO: Iterate over the batches using a window of size seq_length\n",
        "    for n in range(0, arr.shape[1], seq_length):\n",
        "        # The features\n",
        "        x = arr[:,n:n+seq_length]\n",
        "        # The targets, shifted by one\n",
        "        y = np.zeros_like(x)\n",
        "        try:\n",
        "          y[:,:-1],y[:,-1]=x[:,1:],arr[:,n+seq_length]\n",
        "        except IndexError:\n",
        "          y[:,:-1],y[:,-1]=x[:,1:],arr[:,0]\n",
        "          \n",
        "        yield x, y"
      ],
      "execution_count": 0,
      "outputs": []
    },
    {
      "metadata": {
        "id": "BcpDgxvYb0Yg",
        "colab_type": "text"
      },
      "cell_type": "markdown",
      "source": [
        "### Test Your Implementation\n",
        "\n",
        "Now I'll make some data sets and we can check out what's going on as we batch data. Here, as an example, I'm going to use a batch size of 8 and 50 sequence steps."
      ]
    },
    {
      "metadata": {
        "id": "F-SuhaDdb0Yh",
        "colab_type": "code",
        "colab": {}
      },
      "cell_type": "code",
      "source": [
        "batches = get_batches(encoded, 8, 50)\n",
        "x, y = next(batches)"
      ],
      "execution_count": 0,
      "outputs": []
    },
    {
      "metadata": {
        "id": "K4LM41SKb0Yi",
        "colab_type": "code",
        "colab": {
          "base_uri": "https://localhost:8080/",
          "height": 340
        },
        "outputId": "2cf769c5-1d84-4fe6-c70d-21d2283c77cc"
      },
      "cell_type": "code",
      "source": [
        "# printing out the first 10 items in a sequence\n",
        "print('x\\n', x[:10, :10])\n",
        "print('\\ny\\n', y[:10, :10])"
      ],
      "execution_count": 50,
      "outputs": [
        {
          "output_type": "stream",
          "text": [
            "x\n",
            " [[57 82 11 74 68  4 13 14 33 61]\n",
            " [44  7 22 14 68 82 11 68 14 11]\n",
            " [ 4 22 23 14  7 13 14 11 14 60]\n",
            " [44 14 68 82  4 14 38 82 49  4]\n",
            " [14 44 11 15 14 82  4 13 14 68]\n",
            " [38 51 44 44 49  7 22 14 11 22]\n",
            " [14 45 22 22 11 14 82 11 23 14]\n",
            " [52 25 19  7 22 44 10 41 37 14]]\n",
            "\n",
            "y\n",
            " [[82 11 74 68  4 13 14 33 61 61]\n",
            " [ 7 22 14 68 82 11 68 14 11 68]\n",
            " [22 23 14  7 13 14 11 14 60  7]\n",
            " [14 68 82  4 14 38 82 49  4 60]\n",
            " [44 11 15 14 82  4 13 14 68  4]\n",
            " [51 44 44 49  7 22 14 11 22 23]\n",
            " [45 22 22 11 14 82 11 23 14 44]\n",
            " [25 19  7 22 44 10 41 37 14 53]]\n"
          ],
          "name": "stdout"
        }
      ]
    },
    {
      "metadata": {
        "id": "osg3sG0_b0Yl",
        "colab_type": "text"
      },
      "cell_type": "markdown",
      "source": [
        "If you implemented `get_batches` correctly, the above output should look something like \n",
        "```\n",
        "x\n",
        " [[25  8 60 11 45 27 28 73  1  2]\n",
        " [17  7 20 73 45  8 60 45 73 60]\n",
        " [27 20 80 73  7 28 73 60 73 65]\n",
        " [17 73 45  8 27 73 66  8 46 27]\n",
        " [73 17 60 12 73  8 27 28 73 45]\n",
        " [66 64 17 17 46  7 20 73 60 20]\n",
        " [73 76 20 20 60 73  8 60 80 73]\n",
        " [47 35 43  7 20 17 24 50 37 73]]\n",
        "\n",
        "y\n",
        " [[ 8 60 11 45 27 28 73  1  2  2]\n",
        " [ 7 20 73 45  8 60 45 73 60 45]\n",
        " [20 80 73  7 28 73 60 73 65  7]\n",
        " [73 45  8 27 73 66  8 46 27 65]\n",
        " [17 60 12 73  8 27 28 73 45 27]\n",
        " [64 17 17 46  7 20 73 60 20 80]\n",
        " [76 20 20 60 73  8 60 80 73 17]\n",
        " [35 43  7 20 17 24 50 37 73 36]]\n",
        " ```\n",
        " although the exact numbers may be different. Check to make sure the data is shifted over one step for `y`."
      ]
    },
    {
      "metadata": {
        "id": "bJvqnvfNb0Yl",
        "colab_type": "text"
      },
      "cell_type": "markdown",
      "source": [
        "---\n",
        "## Defining the network with PyTorch\n",
        "\n",
        "Below is where you'll define the network.\n",
        "\n",
        "<img src=\"https://github.com/subodhkhanger/deep-learning-v2-pytorch/blob/master/recurrent-neural-networks/char-rnn/assets/charRNN.png?raw=1\" width=500px>\n",
        "\n",
        "Next, you'll use PyTorch to define the architecture of the network. We start by defining the layers and operations we want. Then, define a method for the forward pass. You've also been given a method for predicting characters."
      ]
    },
    {
      "metadata": {
        "id": "q3xRddIcb0Yl",
        "colab_type": "text"
      },
      "cell_type": "markdown",
      "source": [
        "### Model Structure\n",
        "\n",
        "In `__init__` the suggested structure is as follows:\n",
        "* Create and store the necessary dictionaries (this has been done for you)\n",
        "* Define an LSTM layer that takes as params: an input size (the number of characters), a hidden layer size `n_hidden`, a number of layers `n_layers`, a dropout probability `drop_prob`, and a batch_first boolean (True, since we are batching)\n",
        "* Define a dropout layer with `dropout_prob`\n",
        "* Define a fully-connected layer with params: input size `n_hidden` and output size (the number of characters)\n",
        "* Finally, initialize the weights (again, this has been given)\n",
        "\n",
        "Note that some parameters have been named and given in the `__init__` function, and we use them and store them by doing something like `self.drop_prob = drop_prob`."
      ]
    },
    {
      "metadata": {
        "id": "f6RfwYTBb0Ym",
        "colab_type": "text"
      },
      "cell_type": "markdown",
      "source": [
        "---\n",
        "### LSTM Inputs/Outputs\n",
        "\n",
        "You can create a basic [LSTM layer](https://pytorch.org/docs/stable/nn.html#lstm) as follows\n",
        "\n",
        "```python\n",
        "self.lstm = nn.LSTM(input_size, n_hidden, n_layers, \n",
        "                            dropout=drop_prob, batch_first=True)\n",
        "```\n",
        "\n",
        "where `input_size` is the number of characters this cell expects to see as sequential input, and `n_hidden` is the number of units in the hidden layers in the cell. And we can add dropout by adding a dropout parameter with a specified probability; this will automatically add dropout to the inputs or outputs. Finally, in the `forward` function, we can stack up the LSTM cells into layers using `.view`. With this, you pass in a list of cells and it will send the output of one cell into the next cell.\n",
        "\n",
        "We also need to create an initial hidden state of all zeros. This is done like so\n",
        "\n",
        "```python\n",
        "self.init_hidden()\n",
        "```"
      ]
    },
    {
      "metadata": {
        "id": "zzrl6T6Xb0Ym",
        "colab_type": "code",
        "colab": {
          "base_uri": "https://localhost:8080/",
          "height": 34
        },
        "outputId": "a9421ca9-8f15-4e02-d50b-c0fb81200128"
      },
      "cell_type": "code",
      "source": [
        "# check if GPU is available\n",
        "train_on_gpu = torch.cuda.is_available()\n",
        "if(train_on_gpu):\n",
        "    print('Training on GPU!')\n",
        "else: \n",
        "    print('No GPU available, training on CPU; consider making n_epochs very small.')"
      ],
      "execution_count": 51,
      "outputs": [
        {
          "output_type": "stream",
          "text": [
            "Training on GPU!\n"
          ],
          "name": "stdout"
        }
      ]
    },
    {
      "metadata": {
        "id": "SQi6sITxb0Yo",
        "colab_type": "code",
        "colab": {}
      },
      "cell_type": "code",
      "source": [
        "class CharRNN(nn.Module):\n",
        "    \n",
        "    def __init__(self, tokens, n_hidden=256, n_layers=2,\n",
        "                               drop_prob=0.5, lr=0.001):\n",
        "        super().__init__()\n",
        "        self.drop_prob = drop_prob\n",
        "        self.n_layers = n_layers\n",
        "        self.n_hidden = n_hidden\n",
        "        self.lr = lr\n",
        "        \n",
        "        # creating character dictionaries\n",
        "        self.chars = tokens\n",
        "        self.int2char = dict(enumerate(self.chars))\n",
        "        self.char2int = {ch: ii for ii, ch in self.int2char.items()}\n",
        "        \n",
        "        ## TODO: define the layers of the model\n",
        "        self.lstm = nn.LSTM(len(self.chars), n_hidden, n_layers, \n",
        "                            dropout=drop_prob, batch_first=True)\n",
        "        self.dropout = nn.Dropout(drop_prob)\n",
        "        self.fc=nn.Linear(n_hidden,len(self.chars))\n",
        "        \n",
        "    \n",
        "    def forward(self, x, hidden):\n",
        "        ''' Forward pass through the network. \n",
        "            These inputs are x, and the hidden/cell state `hidden`. '''\n",
        "                \n",
        "        ## TODO: Get the outputs and the new hidden state from the lstm\n",
        "        r_output,hidden=self.lstm(x,hidden)\n",
        "        out=self.dropout(r_output)\n",
        "        out=out.contiguous().view(-1,self.n_hidden)\n",
        "        out=self.fc(out)\n",
        "        # return the final output and the hidden state\n",
        "        return out, hidden\n",
        "    \n",
        "    \n",
        "    def init_hidden(self, batch_size):\n",
        "        ''' Initializes hidden state '''\n",
        "        # Create two new tensors with sizes n_layers x batch_size x n_hidden,\n",
        "        # initialized to zero, for hidden state and cell state of LSTM\n",
        "        weight = next(self.parameters()).data\n",
        "        \n",
        "        if (train_on_gpu):\n",
        "            hidden = (weight.new(self.n_layers, batch_size, self.n_hidden).zero_().cuda(),\n",
        "                  weight.new(self.n_layers, batch_size, self.n_hidden).zero_().cuda())\n",
        "        else:\n",
        "            hidden = (weight.new(self.n_layers, batch_size, self.n_hidden).zero_(),\n",
        "                      weight.new(self.n_layers, batch_size, self.n_hidden).zero_())\n",
        "        \n",
        "        return hidden\n",
        "        "
      ],
      "execution_count": 0,
      "outputs": []
    },
    {
      "metadata": {
        "id": "l-qVPcUAb0Yq",
        "colab_type": "text"
      },
      "cell_type": "markdown",
      "source": [
        "## Time to train\n",
        "\n",
        "The train function gives us the ability to set the number of epochs, the learning rate, and other parameters.\n",
        "\n",
        "Below we're using an Adam optimizer and cross entropy loss since we are looking at character class scores as output. We calculate the loss and perform backpropagation, as usual!\n",
        "\n",
        "A couple of details about training: \n",
        ">* Within the batch loop, we detach the hidden state from its history; this time setting it equal to a new *tuple* variable because an LSTM has a hidden state that is a tuple of the hidden and cell states.\n",
        "* We use [`clip_grad_norm_`](https://pytorch.org/docs/stable/_modules/torch/nn/utils/clip_grad.html) to help prevent exploding gradients."
      ]
    },
    {
      "metadata": {
        "id": "_VpxyGQeb0Yr",
        "colab_type": "code",
        "colab": {}
      },
      "cell_type": "code",
      "source": [
        "def train(net, data, epochs=10, batch_size=10, seq_length=50, lr=0.001, clip=5, val_frac=0.1, print_every=10):\n",
        "    ''' Training a network \n",
        "    \n",
        "        Arguments\n",
        "        ---------\n",
        "        \n",
        "        net: CharRNN network\n",
        "        data: text data to train the network\n",
        "        epochs: Number of epochs to train\n",
        "        batch_size: Number of mini-sequences per mini-batch, aka batch size\n",
        "        seq_length: Number of character steps per mini-batch\n",
        "        lr: learning rate\n",
        "        clip: gradient clipping\n",
        "        val_frac: Fraction of data to hold out for validation\n",
        "        print_every: Number of steps for printing training and validation loss\n",
        "    \n",
        "    '''\n",
        "    net.train()\n",
        "    \n",
        "    opt = torch.optim.Adam(net.parameters(), lr=lr)\n",
        "    criterion = nn.CrossEntropyLoss()\n",
        "    \n",
        "    # create training and validation data\n",
        "    val_idx = int(len(data)*(1-val_frac))\n",
        "    data, val_data = data[:val_idx], data[val_idx:]\n",
        "    \n",
        "    if(train_on_gpu):\n",
        "        net.cuda()\n",
        "    \n",
        "    counter = 0\n",
        "    n_chars = len(net.chars)\n",
        "    for e in range(epochs):\n",
        "        # initialize hidden state\n",
        "        h = net.init_hidden(batch_size)\n",
        "        \n",
        "        for x, y in get_batches(data, batch_size, seq_length):\n",
        "            counter += 1\n",
        "            \n",
        "            # One-hot encode our data and make them Torch tensors\n",
        "            x = one_hot_encode(x, n_chars)\n",
        "            inputs, targets = torch.from_numpy(x), torch.from_numpy(y)\n",
        "            \n",
        "            if(train_on_gpu):\n",
        "                inputs, targets = inputs.cuda(), targets.cuda()\n",
        "\n",
        "            # Creating new variables for the hidden state, otherwise\n",
        "            # we'd backprop through the entire training history\n",
        "            h = tuple([each.data for each in h])\n",
        "\n",
        "            # zero accumulated gradients\n",
        "            net.zero_grad()\n",
        "            \n",
        "            # get the output from the model\n",
        "            output, h = net(inputs, h)\n",
        "            \n",
        "            # calculate the loss and perform backprop\n",
        "            loss = criterion(output, targets.view(batch_size*seq_length))\n",
        "            loss.backward()\n",
        "            # `clip_grad_norm` helps prevent the exploding gradient problem in RNNs / LSTMs.\n",
        "            nn.utils.clip_grad_norm_(net.parameters(), clip)\n",
        "            opt.step()\n",
        "            \n",
        "            # loss stats\n",
        "            if counter % print_every == 0:\n",
        "                # Get validation loss\n",
        "                val_h = net.init_hidden(batch_size)\n",
        "                val_losses = []\n",
        "                net.eval()\n",
        "                for x, y in get_batches(val_data, batch_size, seq_length):\n",
        "                    # One-hot encode our data and make them Torch tensors\n",
        "                    x = one_hot_encode(x, n_chars)\n",
        "                    x, y = torch.from_numpy(x), torch.from_numpy(y)\n",
        "                    \n",
        "                    # Creating new variables for the hidden state, otherwise\n",
        "                    # we'd backprop through the entire training history\n",
        "                    val_h = tuple([each.data for each in val_h])\n",
        "                    \n",
        "                    inputs, targets = x, y\n",
        "                    if(train_on_gpu):\n",
        "                        inputs, targets = inputs.cuda(), targets.cuda()\n",
        "\n",
        "                    output, val_h = net(inputs, val_h)\n",
        "                    val_loss = criterion(output, targets.view(batch_size*seq_length))\n",
        "                \n",
        "                    val_losses.append(val_loss.item())\n",
        "                \n",
        "                net.train() # reset to train mode after iterationg through validation data\n",
        "                \n",
        "                print(\"Epoch: {}/{}...\".format(e+1, epochs),\n",
        "                      \"Step: {}...\".format(counter),\n",
        "                      \"Loss: {:.4f}...\".format(loss.item()),\n",
        "                      \"Val Loss: {:.4f}\".format(np.mean(val_losses)))"
      ],
      "execution_count": 0,
      "outputs": []
    },
    {
      "metadata": {
        "id": "tLt44RtTb0Yt",
        "colab_type": "text"
      },
      "cell_type": "markdown",
      "source": [
        "## Instantiating the model\n",
        "\n",
        "Now we can actually train the network. First we'll create the network itself, with some given hyperparameters. Then, define the mini-batches sizes, and start training!"
      ]
    },
    {
      "metadata": {
        "id": "n6SfPVq_b0Yu",
        "colab_type": "code",
        "colab": {
          "base_uri": "https://localhost:8080/",
          "height": 102
        },
        "outputId": "1c838e4c-ae1d-423d-af3e-bcbf0e8a9e12"
      },
      "cell_type": "code",
      "source": [
        "## TODO: set you model hyperparameters\n",
        "# define and print the net\n",
        "n_hidden=512\n",
        "n_layers=2\n",
        "\n",
        "net = CharRNN(chars, n_hidden, n_layers)\n",
        "print(net)"
      ],
      "execution_count": 82,
      "outputs": [
        {
          "output_type": "stream",
          "text": [
            "CharRNN(\n",
            "  (lstm): LSTM(83, 512, num_layers=2, batch_first=True, dropout=0.5)\n",
            "  (dropout): Dropout(p=0.5)\n",
            "  (fc): Linear(in_features=512, out_features=83, bias=True)\n",
            ")\n"
          ],
          "name": "stdout"
        }
      ]
    },
    {
      "metadata": {
        "id": "Oggvt7aHb0Yx",
        "colab_type": "text"
      },
      "cell_type": "markdown",
      "source": [
        "### Set your training hyperparameters!"
      ]
    },
    {
      "metadata": {
        "scrolled": true,
        "id": "Q-ZQrrMwb0Yx",
        "colab_type": "code",
        "colab": {
          "base_uri": "https://localhost:8080/",
          "height": 4743
        },
        "outputId": "36120554-8b90-4485-8cad-9fe78a691407"
      },
      "cell_type": "code",
      "source": [
        "batch_size = 128\n",
        "seq_length = 100\n",
        "n_epochs = 20 # start small if you are just testing initial behavior\n",
        "\n",
        "# train the model\n",
        "train(net, encoded, epochs=n_epochs, batch_size=batch_size, seq_length=seq_length, lr=0.001, print_every=10)"
      ],
      "execution_count": 83,
      "outputs": [
        {
          "output_type": "stream",
          "text": [
            "Epoch: 1/20... Step: 10... Loss: 3.2465... Val Loss: 3.1932\n",
            "Epoch: 1/20... Step: 20... Loss: 3.1415... Val Loss: 3.1293\n",
            "Epoch: 1/20... Step: 30... Loss: 3.1383... Val Loss: 3.1214\n",
            "Epoch: 1/20... Step: 40... Loss: 3.1092... Val Loss: 3.1183\n",
            "Epoch: 1/20... Step: 50... Loss: 3.1362... Val Loss: 3.1161\n",
            "Epoch: 1/20... Step: 60... Loss: 3.1132... Val Loss: 3.1123\n",
            "Epoch: 1/20... Step: 70... Loss: 3.0976... Val Loss: 3.1048\n",
            "Epoch: 1/20... Step: 80... Loss: 3.1121... Val Loss: 3.0976\n",
            "Epoch: 1/20... Step: 90... Loss: 3.0941... Val Loss: 3.0746\n",
            "Epoch: 1/20... Step: 100... Loss: 3.0297... Val Loss: 3.0141\n",
            "Epoch: 1/20... Step: 110... Loss: 2.9231... Val Loss: 2.8926\n",
            "Epoch: 1/20... Step: 120... Loss: 2.8146... Val Loss: 2.7847\n",
            "Epoch: 1/20... Step: 130... Loss: 2.6819... Val Loss: 2.6443\n",
            "Epoch: 2/20... Step: 140... Loss: 2.6066... Val Loss: 2.5611\n",
            "Epoch: 2/20... Step: 150... Loss: 2.5377... Val Loss: 2.4987\n",
            "Epoch: 2/20... Step: 160... Loss: 2.4968... Val Loss: 2.4531\n",
            "Epoch: 2/20... Step: 170... Loss: 2.4278... Val Loss: 2.4129\n",
            "Epoch: 2/20... Step: 180... Loss: 2.4081... Val Loss: 2.3852\n",
            "Epoch: 2/20... Step: 190... Loss: 2.3688... Val Loss: 2.3763\n",
            "Epoch: 2/20... Step: 200... Loss: 2.3525... Val Loss: 2.3272\n",
            "Epoch: 2/20... Step: 210... Loss: 2.3156... Val Loss: 2.2991\n",
            "Epoch: 2/20... Step: 220... Loss: 2.2798... Val Loss: 2.2643\n",
            "Epoch: 2/20... Step: 230... Loss: 2.2684... Val Loss: 2.2488\n",
            "Epoch: 2/20... Step: 240... Loss: 2.2439... Val Loss: 2.2090\n",
            "Epoch: 2/20... Step: 250... Loss: 2.1798... Val Loss: 2.1846\n",
            "Epoch: 2/20... Step: 260... Loss: 2.1624... Val Loss: 2.1585\n",
            "Epoch: 2/20... Step: 270... Loss: 2.1751... Val Loss: 2.1345\n",
            "Epoch: 3/20... Step: 280... Loss: 2.1626... Val Loss: 2.1124\n",
            "Epoch: 3/20... Step: 290... Loss: 2.1309... Val Loss: 2.0897\n",
            "Epoch: 3/20... Step: 300... Loss: 2.1017... Val Loss: 2.0696\n",
            "Epoch: 3/20... Step: 310... Loss: 2.0743... Val Loss: 2.0519\n",
            "Epoch: 3/20... Step: 320... Loss: 2.0397... Val Loss: 2.0275\n",
            "Epoch: 3/20... Step: 330... Loss: 2.0281... Val Loss: 2.0272\n",
            "Epoch: 3/20... Step: 340... Loss: 2.0419... Val Loss: 1.9990\n",
            "Epoch: 3/20... Step: 350... Loss: 2.0103... Val Loss: 1.9884\n",
            "Epoch: 3/20... Step: 360... Loss: 1.9514... Val Loss: 1.9642\n",
            "Epoch: 3/20... Step: 370... Loss: 1.9797... Val Loss: 1.9530\n",
            "Epoch: 3/20... Step: 380... Loss: 1.9590... Val Loss: 1.9338\n",
            "Epoch: 3/20... Step: 390... Loss: 1.9304... Val Loss: 1.9201\n",
            "Epoch: 3/20... Step: 400... Loss: 1.9001... Val Loss: 1.9023\n",
            "Epoch: 3/20... Step: 410... Loss: 1.9188... Val Loss: 1.8910\n",
            "Epoch: 4/20... Step: 420... Loss: 1.9088... Val Loss: 1.8781\n",
            "Epoch: 4/20... Step: 430... Loss: 1.8908... Val Loss: 1.8608\n",
            "Epoch: 4/20... Step: 440... Loss: 1.8810... Val Loss: 1.8513\n",
            "Epoch: 4/20... Step: 450... Loss: 1.8167... Val Loss: 1.8381\n",
            "Epoch: 4/20... Step: 460... Loss: 1.8160... Val Loss: 1.8248\n",
            "Epoch: 4/20... Step: 470... Loss: 1.8468... Val Loss: 1.8192\n",
            "Epoch: 4/20... Step: 480... Loss: 1.8309... Val Loss: 1.8082\n",
            "Epoch: 4/20... Step: 490... Loss: 1.8362... Val Loss: 1.8006\n",
            "Epoch: 4/20... Step: 500... Loss: 1.8256... Val Loss: 1.7872\n",
            "Epoch: 4/20... Step: 510... Loss: 1.8023... Val Loss: 1.7747\n",
            "Epoch: 4/20... Step: 520... Loss: 1.8129... Val Loss: 1.7638\n",
            "Epoch: 4/20... Step: 530... Loss: 1.7738... Val Loss: 1.7638\n",
            "Epoch: 4/20... Step: 540... Loss: 1.7426... Val Loss: 1.7511\n",
            "Epoch: 4/20... Step: 550... Loss: 1.7914... Val Loss: 1.7389\n",
            "Epoch: 5/20... Step: 560... Loss: 1.7567... Val Loss: 1.7372\n",
            "Epoch: 5/20... Step: 570... Loss: 1.7393... Val Loss: 1.7178\n",
            "Epoch: 5/20... Step: 580... Loss: 1.7223... Val Loss: 1.7087\n",
            "Epoch: 5/20... Step: 590... Loss: 1.7237... Val Loss: 1.7002\n",
            "Epoch: 5/20... Step: 600... Loss: 1.7099... Val Loss: 1.6952\n",
            "Epoch: 5/20... Step: 610... Loss: 1.6957... Val Loss: 1.6884\n",
            "Epoch: 5/20... Step: 620... Loss: 1.6904... Val Loss: 1.6833\n",
            "Epoch: 5/20... Step: 630... Loss: 1.7063... Val Loss: 1.6716\n",
            "Epoch: 5/20... Step: 640... Loss: 1.6852... Val Loss: 1.6661\n",
            "Epoch: 5/20... Step: 650... Loss: 1.6661... Val Loss: 1.6600\n",
            "Epoch: 5/20... Step: 660... Loss: 1.6471... Val Loss: 1.6528\n",
            "Epoch: 5/20... Step: 670... Loss: 1.6723... Val Loss: 1.6517\n",
            "Epoch: 5/20... Step: 680... Loss: 1.6681... Val Loss: 1.6420\n",
            "Epoch: 5/20... Step: 690... Loss: 1.6515... Val Loss: 1.6350\n",
            "Epoch: 6/20... Step: 700... Loss: 1.6462... Val Loss: 1.6317\n",
            "Epoch: 6/20... Step: 710... Loss: 1.6316... Val Loss: 1.6260\n",
            "Epoch: 6/20... Step: 720... Loss: 1.6298... Val Loss: 1.6182\n",
            "Epoch: 6/20... Step: 730... Loss: 1.6385... Val Loss: 1.6116\n",
            "Epoch: 6/20... Step: 740... Loss: 1.6083... Val Loss: 1.6073\n",
            "Epoch: 6/20... Step: 750... Loss: 1.5870... Val Loss: 1.6037\n",
            "Epoch: 6/20... Step: 760... Loss: 1.6305... Val Loss: 1.5998\n",
            "Epoch: 6/20... Step: 770... Loss: 1.6105... Val Loss: 1.5961\n",
            "Epoch: 6/20... Step: 780... Loss: 1.5902... Val Loss: 1.5876\n",
            "Epoch: 6/20... Step: 790... Loss: 1.5788... Val Loss: 1.5819\n",
            "Epoch: 6/20... Step: 800... Loss: 1.6081... Val Loss: 1.5832\n",
            "Epoch: 6/20... Step: 810... Loss: 1.5856... Val Loss: 1.5757\n",
            "Epoch: 6/20... Step: 820... Loss: 1.5401... Val Loss: 1.5730\n",
            "Epoch: 6/20... Step: 830... Loss: 1.6000... Val Loss: 1.5666\n",
            "Epoch: 7/20... Step: 840... Loss: 1.5484... Val Loss: 1.5614\n",
            "Epoch: 7/20... Step: 850... Loss: 1.5648... Val Loss: 1.5583\n",
            "Epoch: 7/20... Step: 860... Loss: 1.5456... Val Loss: 1.5542\n",
            "Epoch: 7/20... Step: 870... Loss: 1.5638... Val Loss: 1.5487\n",
            "Epoch: 7/20... Step: 880... Loss: 1.5598... Val Loss: 1.5426\n",
            "Epoch: 7/20... Step: 890... Loss: 1.5539... Val Loss: 1.5409\n",
            "Epoch: 7/20... Step: 900... Loss: 1.5372... Val Loss: 1.5400\n",
            "Epoch: 7/20... Step: 910... Loss: 1.5118... Val Loss: 1.5391\n",
            "Epoch: 7/20... Step: 920... Loss: 1.5286... Val Loss: 1.5345\n",
            "Epoch: 7/20... Step: 930... Loss: 1.5173... Val Loss: 1.5296\n",
            "Epoch: 7/20... Step: 940... Loss: 1.5245... Val Loss: 1.5265\n",
            "Epoch: 7/20... Step: 950... Loss: 1.5305... Val Loss: 1.5162\n",
            "Epoch: 7/20... Step: 960... Loss: 1.5324... Val Loss: 1.5161\n",
            "Epoch: 7/20... Step: 970... Loss: 1.5320... Val Loss: 1.5134\n",
            "Epoch: 8/20... Step: 980... Loss: 1.5114... Val Loss: 1.5128\n",
            "Epoch: 8/20... Step: 990... Loss: 1.5073... Val Loss: 1.5058\n",
            "Epoch: 8/20... Step: 1000... Loss: 1.5061... Val Loss: 1.5055\n",
            "Epoch: 8/20... Step: 1010... Loss: 1.5450... Val Loss: 1.5023\n",
            "Epoch: 8/20... Step: 1020... Loss: 1.5029... Val Loss: 1.4965\n",
            "Epoch: 8/20... Step: 1030... Loss: 1.4887... Val Loss: 1.4971\n",
            "Epoch: 8/20... Step: 1040... Loss: 1.5074... Val Loss: 1.4987\n",
            "Epoch: 8/20... Step: 1050... Loss: 1.4880... Val Loss: 1.4925\n",
            "Epoch: 8/20... Step: 1060... Loss: 1.4877... Val Loss: 1.4879\n",
            "Epoch: 8/20... Step: 1070... Loss: 1.4955... Val Loss: 1.4864\n",
            "Epoch: 8/20... Step: 1080... Loss: 1.4779... Val Loss: 1.4846\n",
            "Epoch: 8/20... Step: 1090... Loss: 1.4677... Val Loss: 1.4803\n",
            "Epoch: 8/20... Step: 1100... Loss: 1.4593... Val Loss: 1.4757\n",
            "Epoch: 8/20... Step: 1110... Loss: 1.4812... Val Loss: 1.4748\n",
            "Epoch: 9/20... Step: 1120... Loss: 1.4795... Val Loss: 1.4700\n",
            "Epoch: 9/20... Step: 1130... Loss: 1.4797... Val Loss: 1.4677\n",
            "Epoch: 9/20... Step: 1140... Loss: 1.4769... Val Loss: 1.4646\n",
            "Epoch: 9/20... Step: 1150... Loss: 1.4942... Val Loss: 1.4649\n",
            "Epoch: 9/20... Step: 1160... Loss: 1.4475... Val Loss: 1.4595\n",
            "Epoch: 9/20... Step: 1170... Loss: 1.4489... Val Loss: 1.4592\n",
            "Epoch: 9/20... Step: 1180... Loss: 1.4576... Val Loss: 1.4611\n",
            "Epoch: 9/20... Step: 1190... Loss: 1.4813... Val Loss: 1.4545\n",
            "Epoch: 9/20... Step: 1200... Loss: 1.4216... Val Loss: 1.4531\n",
            "Epoch: 9/20... Step: 1210... Loss: 1.4473... Val Loss: 1.4499\n",
            "Epoch: 9/20... Step: 1220... Loss: 1.4401... Val Loss: 1.4473\n",
            "Epoch: 9/20... Step: 1230... Loss: 1.4269... Val Loss: 1.4437\n",
            "Epoch: 9/20... Step: 1240... Loss: 1.4235... Val Loss: 1.4421\n",
            "Epoch: 9/20... Step: 1250... Loss: 1.4433... Val Loss: 1.4409\n",
            "Epoch: 10/20... Step: 1260... Loss: 1.4379... Val Loss: 1.4416\n",
            "Epoch: 10/20... Step: 1270... Loss: 1.4374... Val Loss: 1.4389\n",
            "Epoch: 10/20... Step: 1280... Loss: 1.4457... Val Loss: 1.4343\n",
            "Epoch: 10/20... Step: 1290... Loss: 1.4384... Val Loss: 1.4365\n",
            "Epoch: 10/20... Step: 1300... Loss: 1.4228... Val Loss: 1.4322\n",
            "Epoch: 10/20... Step: 1310... Loss: 1.4353... Val Loss: 1.4302\n",
            "Epoch: 10/20... Step: 1320... Loss: 1.4033... Val Loss: 1.4311\n",
            "Epoch: 10/20... Step: 1330... Loss: 1.4065... Val Loss: 1.4264\n",
            "Epoch: 10/20... Step: 1340... Loss: 1.3937... Val Loss: 1.4237\n",
            "Epoch: 10/20... Step: 1350... Loss: 1.3993... Val Loss: 1.4260\n",
            "Epoch: 10/20... Step: 1360... Loss: 1.3974... Val Loss: 1.4242\n",
            "Epoch: 10/20... Step: 1370... Loss: 1.3847... Val Loss: 1.4228\n",
            "Epoch: 10/20... Step: 1380... Loss: 1.4167... Val Loss: 1.4162\n",
            "Epoch: 10/20... Step: 1390... Loss: 1.4308... Val Loss: 1.4149\n",
            "Epoch: 11/20... Step: 1400... Loss: 1.4254... Val Loss: 1.4160\n",
            "Epoch: 11/20... Step: 1410... Loss: 1.4359... Val Loss: 1.4120\n",
            "Epoch: 11/20... Step: 1420... Loss: 1.4242... Val Loss: 1.4105\n",
            "Epoch: 11/20... Step: 1430... Loss: 1.4022... Val Loss: 1.4107\n",
            "Epoch: 11/20... Step: 1440... Loss: 1.4251... Val Loss: 1.4066\n",
            "Epoch: 11/20... Step: 1450... Loss: 1.3541... Val Loss: 1.4075\n",
            "Epoch: 11/20... Step: 1460... Loss: 1.3824... Val Loss: 1.4062\n",
            "Epoch: 11/20... Step: 1470... Loss: 1.3702... Val Loss: 1.4066\n",
            "Epoch: 11/20... Step: 1480... Loss: 1.4002... Val Loss: 1.4006\n",
            "Epoch: 11/20... Step: 1490... Loss: 1.3842... Val Loss: 1.4010\n",
            "Epoch: 11/20... Step: 1500... Loss: 1.3771... Val Loss: 1.4054\n",
            "Epoch: 11/20... Step: 1510... Loss: 1.3464... Val Loss: 1.4008\n",
            "Epoch: 11/20... Step: 1520... Loss: 1.3868... Val Loss: 1.3958\n",
            "Epoch: 12/20... Step: 1530... Loss: 1.4391... Val Loss: 1.4001\n",
            "Epoch: 12/20... Step: 1540... Loss: 1.4067... Val Loss: 1.3978\n",
            "Epoch: 12/20... Step: 1550... Loss: 1.3959... Val Loss: 1.3960\n",
            "Epoch: 12/20... Step: 1560... Loss: 1.4115... Val Loss: 1.3915\n",
            "Epoch: 12/20... Step: 1570... Loss: 1.3513... Val Loss: 1.3879\n",
            "Epoch: 12/20... Step: 1580... Loss: 1.3310... Val Loss: 1.3849\n",
            "Epoch: 12/20... Step: 1590... Loss: 1.3313... Val Loss: 1.3875\n",
            "Epoch: 12/20... Step: 1600... Loss: 1.3611... Val Loss: 1.3881\n",
            "Epoch: 12/20... Step: 1610... Loss: 1.3518... Val Loss: 1.3888\n",
            "Epoch: 12/20... Step: 1620... Loss: 1.3545... Val Loss: 1.3838\n",
            "Epoch: 12/20... Step: 1630... Loss: 1.3573... Val Loss: 1.3840\n",
            "Epoch: 12/20... Step: 1640... Loss: 1.3445... Val Loss: 1.3851\n",
            "Epoch: 12/20... Step: 1650... Loss: 1.3210... Val Loss: 1.3836\n",
            "Epoch: 12/20... Step: 1660... Loss: 1.3794... Val Loss: 1.3786\n",
            "Epoch: 13/20... Step: 1670... Loss: 1.3458... Val Loss: 1.3786\n",
            "Epoch: 13/20... Step: 1680... Loss: 1.3580... Val Loss: 1.3755\n",
            "Epoch: 13/20... Step: 1690... Loss: 1.3416... Val Loss: 1.3721\n",
            "Epoch: 13/20... Step: 1700... Loss: 1.3424... Val Loss: 1.3745\n",
            "Epoch: 13/20... Step: 1710... Loss: 1.3134... Val Loss: 1.3699\n",
            "Epoch: 13/20... Step: 1720... Loss: 1.3356... Val Loss: 1.3720\n",
            "Epoch: 13/20... Step: 1730... Loss: 1.3622... Val Loss: 1.3711\n",
            "Epoch: 13/20... Step: 1740... Loss: 1.3416... Val Loss: 1.3722\n",
            "Epoch: 13/20... Step: 1750... Loss: 1.2949... Val Loss: 1.3745\n",
            "Epoch: 13/20... Step: 1760... Loss: 1.3283... Val Loss: 1.3657\n",
            "Epoch: 13/20... Step: 1770... Loss: 1.3556... Val Loss: 1.3698\n",
            "Epoch: 13/20... Step: 1780... Loss: 1.3137... Val Loss: 1.3704\n",
            "Epoch: 13/20... Step: 1790... Loss: 1.3135... Val Loss: 1.3676\n",
            "Epoch: 13/20... Step: 1800... Loss: 1.3401... Val Loss: 1.3638\n",
            "Epoch: 14/20... Step: 1810... Loss: 1.3466... Val Loss: 1.3606\n",
            "Epoch: 14/20... Step: 1820... Loss: 1.3187... Val Loss: 1.3581\n",
            "Epoch: 14/20... Step: 1830... Loss: 1.3421... Val Loss: 1.3593\n",
            "Epoch: 14/20... Step: 1840... Loss: 1.2889... Val Loss: 1.3619\n",
            "Epoch: 14/20... Step: 1850... Loss: 1.2757... Val Loss: 1.3562\n",
            "Epoch: 14/20... Step: 1860... Loss: 1.3422... Val Loss: 1.3572\n",
            "Epoch: 14/20... Step: 1870... Loss: 1.3385... Val Loss: 1.3574\n",
            "Epoch: 14/20... Step: 1880... Loss: 1.3228... Val Loss: 1.3606\n",
            "Epoch: 14/20... Step: 1890... Loss: 1.3418... Val Loss: 1.3551\n",
            "Epoch: 14/20... Step: 1900... Loss: 1.3214... Val Loss: 1.3550\n",
            "Epoch: 14/20... Step: 1910... Loss: 1.3204... Val Loss: 1.3569\n",
            "Epoch: 14/20... Step: 1920... Loss: 1.3111... Val Loss: 1.3579\n",
            "Epoch: 14/20... Step: 1930... Loss: 1.2923... Val Loss: 1.3522\n",
            "Epoch: 14/20... Step: 1940... Loss: 1.3384... Val Loss: 1.3536\n",
            "Epoch: 15/20... Step: 1950... Loss: 1.3082... Val Loss: 1.3563\n",
            "Epoch: 15/20... Step: 1960... Loss: 1.3076... Val Loss: 1.3480\n",
            "Epoch: 15/20... Step: 1970... Loss: 1.3111... Val Loss: 1.3458\n",
            "Epoch: 15/20... Step: 1980... Loss: 1.2954... Val Loss: 1.3494\n",
            "Epoch: 15/20... Step: 1990... Loss: 1.2966... Val Loss: 1.3476\n",
            "Epoch: 15/20... Step: 2000... Loss: 1.2844... Val Loss: 1.3449\n",
            "Epoch: 15/20... Step: 2010... Loss: 1.3002... Val Loss: 1.3446\n",
            "Epoch: 15/20... Step: 2020... Loss: 1.3217... Val Loss: 1.3503\n",
            "Epoch: 15/20... Step: 2030... Loss: 1.2864... Val Loss: 1.3435\n",
            "Epoch: 15/20... Step: 2040... Loss: 1.2964... Val Loss: 1.3405\n",
            "Epoch: 15/20... Step: 2050... Loss: 1.2750... Val Loss: 1.3443\n",
            "Epoch: 15/20... Step: 2060... Loss: 1.2939... Val Loss: 1.3412\n",
            "Epoch: 15/20... Step: 2070... Loss: 1.3000... Val Loss: 1.3399\n",
            "Epoch: 15/20... Step: 2080... Loss: 1.2989... Val Loss: 1.3420\n",
            "Epoch: 16/20... Step: 2090... Loss: 1.3002... Val Loss: 1.3439\n",
            "Epoch: 16/20... Step: 2100... Loss: 1.2881... Val Loss: 1.3398\n",
            "Epoch: 16/20... Step: 2110... Loss: 1.2860... Val Loss: 1.3361\n",
            "Epoch: 16/20... Step: 2120... Loss: 1.2933... Val Loss: 1.3392\n",
            "Epoch: 16/20... Step: 2130... Loss: 1.2660... Val Loss: 1.3362\n",
            "Epoch: 16/20... Step: 2140... Loss: 1.2722... Val Loss: 1.3320\n",
            "Epoch: 16/20... Step: 2150... Loss: 1.3067... Val Loss: 1.3326\n",
            "Epoch: 16/20... Step: 2160... Loss: 1.2797... Val Loss: 1.3343\n",
            "Epoch: 16/20... Step: 2170... Loss: 1.2830... Val Loss: 1.3331\n",
            "Epoch: 16/20... Step: 2180... Loss: 1.2809... Val Loss: 1.3337\n",
            "Epoch: 16/20... Step: 2190... Loss: 1.2990... Val Loss: 1.3356\n",
            "Epoch: 16/20... Step: 2200... Loss: 1.2775... Val Loss: 1.3340\n",
            "Epoch: 16/20... Step: 2210... Loss: 1.2453... Val Loss: 1.3291\n",
            "Epoch: 16/20... Step: 2220... Loss: 1.2869... Val Loss: 1.3319\n",
            "Epoch: 17/20... Step: 2230... Loss: 1.2652... Val Loss: 1.3331\n",
            "Epoch: 17/20... Step: 2240... Loss: 1.2753... Val Loss: 1.3304\n",
            "Epoch: 17/20... Step: 2250... Loss: 1.2559... Val Loss: 1.3304\n",
            "Epoch: 17/20... Step: 2260... Loss: 1.2680... Val Loss: 1.3264\n",
            "Epoch: 17/20... Step: 2270... Loss: 1.2790... Val Loss: 1.3267\n",
            "Epoch: 17/20... Step: 2280... Loss: 1.2859... Val Loss: 1.3257\n",
            "Epoch: 17/20... Step: 2290... Loss: 1.2765... Val Loss: 1.3252\n",
            "Epoch: 17/20... Step: 2300... Loss: 1.2430... Val Loss: 1.3247\n",
            "Epoch: 17/20... Step: 2310... Loss: 1.2669... Val Loss: 1.3254\n",
            "Epoch: 17/20... Step: 2320... Loss: 1.2655... Val Loss: 1.3249\n",
            "Epoch: 17/20... Step: 2330... Loss: 1.2603... Val Loss: 1.3240\n",
            "Epoch: 17/20... Step: 2340... Loss: 1.2743... Val Loss: 1.3227\n",
            "Epoch: 17/20... Step: 2350... Loss: 1.2784... Val Loss: 1.3215\n",
            "Epoch: 17/20... Step: 2360... Loss: 1.2797... Val Loss: 1.3215\n",
            "Epoch: 18/20... Step: 2370... Loss: 1.2507... Val Loss: 1.3204\n",
            "Epoch: 18/20... Step: 2380... Loss: 1.2543... Val Loss: 1.3236\n",
            "Epoch: 18/20... Step: 2390... Loss: 1.2609... Val Loss: 1.3222\n",
            "Epoch: 18/20... Step: 2400... Loss: 1.2838... Val Loss: 1.3163\n",
            "Epoch: 18/20... Step: 2410... Loss: 1.2762... Val Loss: 1.3187\n",
            "Epoch: 18/20... Step: 2420... Loss: 1.2583... Val Loss: 1.3166\n",
            "Epoch: 18/20... Step: 2430... Loss: 1.2648... Val Loss: 1.3162\n",
            "Epoch: 18/20... Step: 2440... Loss: 1.2531... Val Loss: 1.3171\n",
            "Epoch: 18/20... Step: 2450... Loss: 1.2464... Val Loss: 1.3140\n",
            "Epoch: 18/20... Step: 2460... Loss: 1.2645... Val Loss: 1.3129\n",
            "Epoch: 18/20... Step: 2470... Loss: 1.2529... Val Loss: 1.3134\n",
            "Epoch: 18/20... Step: 2480... Loss: 1.2511... Val Loss: 1.3149\n",
            "Epoch: 18/20... Step: 2490... Loss: 1.2307... Val Loss: 1.3120\n",
            "Epoch: 18/20... Step: 2500... Loss: 1.2560... Val Loss: 1.3154\n",
            "Epoch: 19/20... Step: 2510... Loss: 1.2479... Val Loss: 1.3164\n",
            "Epoch: 19/20... Step: 2520... Loss: 1.2600... Val Loss: 1.3155\n",
            "Epoch: 19/20... Step: 2530... Loss: 1.2551... Val Loss: 1.3164\n",
            "Epoch: 19/20... Step: 2540... Loss: 1.2747... Val Loss: 1.3104\n",
            "Epoch: 19/20... Step: 2550... Loss: 1.2372... Val Loss: 1.3110\n",
            "Epoch: 19/20... Step: 2560... Loss: 1.2416... Val Loss: 1.3065\n",
            "Epoch: 19/20... Step: 2570... Loss: 1.2303... Val Loss: 1.3099\n",
            "Epoch: 19/20... Step: 2580... Loss: 1.2677... Val Loss: 1.3106\n",
            "Epoch: 19/20... Step: 2590... Loss: 1.2383... Val Loss: 1.3089\n",
            "Epoch: 19/20... Step: 2600... Loss: 1.2319... Val Loss: 1.3064\n",
            "Epoch: 19/20... Step: 2610... Loss: 1.2397... Val Loss: 1.3074\n",
            "Epoch: 19/20... Step: 2620... Loss: 1.2289... Val Loss: 1.3103\n",
            "Epoch: 19/20... Step: 2630... Loss: 1.2357... Val Loss: 1.3060\n",
            "Epoch: 19/20... Step: 2640... Loss: 1.2430... Val Loss: 1.3078\n",
            "Epoch: 20/20... Step: 2650... Loss: 1.2411... Val Loss: 1.3080\n",
            "Epoch: 20/20... Step: 2660... Loss: 1.2470... Val Loss: 1.3083\n",
            "Epoch: 20/20... Step: 2670... Loss: 1.2659... Val Loss: 1.3040\n",
            "Epoch: 20/20... Step: 2680... Loss: 1.2379... Val Loss: 1.3050\n",
            "Epoch: 20/20... Step: 2690... Loss: 1.2416... Val Loss: 1.3054\n",
            "Epoch: 20/20... Step: 2700... Loss: 1.2531... Val Loss: 1.3014\n",
            "Epoch: 20/20... Step: 2710... Loss: 1.2094... Val Loss: 1.3027\n",
            "Epoch: 20/20... Step: 2720... Loss: 1.2151... Val Loss: 1.3021\n",
            "Epoch: 20/20... Step: 2730... Loss: 1.2067... Val Loss: 1.3032\n",
            "Epoch: 20/20... Step: 2740... Loss: 1.2115... Val Loss: 1.3025\n",
            "Epoch: 20/20... Step: 2750... Loss: 1.2238... Val Loss: 1.3037\n",
            "Epoch: 20/20... Step: 2760... Loss: 1.2132... Val Loss: 1.3030\n",
            "Epoch: 20/20... Step: 2770... Loss: 1.2521... Val Loss: 1.3018\n",
            "Epoch: 20/20... Step: 2780... Loss: 1.2727... Val Loss: 1.2977\n"
          ],
          "name": "stdout"
        }
      ]
    },
    {
      "metadata": {
        "id": "R2Dlip6lb0Yz",
        "colab_type": "text"
      },
      "cell_type": "markdown",
      "source": [
        "## Getting the best model\n",
        "\n",
        "To set your hyperparameters to get the best performance, you'll want to watch the training and validation losses. If your training loss is much lower than the validation loss, you're overfitting. Increase regularization (more dropout) or use a smaller network. If the training and validation losses are close, you're underfitting so you can increase the size of the network."
      ]
    },
    {
      "metadata": {
        "id": "rBwDknjhb0Y0",
        "colab_type": "text"
      },
      "cell_type": "markdown",
      "source": [
        "## Hyperparameters\n",
        "\n",
        "Here are the hyperparameters for the network.\n",
        "\n",
        "In defining the model:\n",
        "* `n_hidden` - The number of units in the hidden layers.\n",
        "* `n_layers` - Number of hidden LSTM layers to use.\n",
        "\n",
        "We assume that dropout probability and learning rate will be kept at the default, in this example.\n",
        "\n",
        "And in training:\n",
        "* `batch_size` - Number of sequences running through the network in one pass.\n",
        "* `seq_length` - Number of characters in the sequence the network is trained on. Larger is better typically, the network will learn more long range dependencies. But it takes longer to train. 100 is typically a good number here.\n",
        "* `lr` - Learning rate for training\n",
        "\n",
        "Here's some good advice from Andrej Karpathy on training the network. I'm going to copy it in here for your benefit, but also link to [where it originally came from](https://github.com/karpathy/char-rnn#tips-and-tricks).\n",
        "\n",
        "> ## Tips and Tricks\n",
        "\n",
        ">### Monitoring Validation Loss vs. Training Loss\n",
        ">If you're somewhat new to Machine Learning or Neural Networks it can take a bit of expertise to get good models. The most important quantity to keep track of is the difference between your training loss (printed during training) and the validation loss (printed once in a while when the RNN is run on the validation data (by default every 1000 iterations)). In particular:\n",
        "\n",
        "> - If your training loss is much lower than validation loss then this means the network might be **overfitting**. Solutions to this are to decrease your network size, or to increase dropout. For example you could try dropout of 0.5 and so on.\n",
        "> - If your training/validation loss are about equal then your model is **underfitting**. Increase the size of your model (either number of layers or the raw number of neurons per layer)\n",
        "\n",
        "> ### Approximate number of parameters\n",
        "\n",
        "> The two most important parameters that control the model are `n_hidden` and `n_layers`. I would advise that you always use `n_layers` of either 2/3. The `n_hidden` can be adjusted based on how much data you have. The two important quantities to keep track of here are:\n",
        "\n",
        "> - The number of parameters in your model. This is printed when you start training.\n",
        "> - The size of your dataset. 1MB file is approximately 1 million characters.\n",
        "\n",
        ">These two should be about the same order of magnitude. It's a little tricky to tell. Here are some examples:\n",
        "\n",
        "> - I have a 100MB dataset and I'm using the default parameter settings (which currently print 150K parameters). My data size is significantly larger (100 mil >> 0.15 mil), so I expect to heavily underfit. I am thinking I can comfortably afford to make `n_hidden` larger.\n",
        "> - I have a 10MB dataset and running a 10 million parameter model. I'm slightly nervous and I'm carefully monitoring my validation loss. If it's larger than my training loss then I may want to try to increase dropout a bit and see if that helps the validation loss.\n",
        "\n",
        "> ### Best models strategy\n",
        "\n",
        ">The winning strategy to obtaining very good models (if you have the compute time) is to always err on making the network larger (as large as you're willing to wait for it to compute) and then try different dropout values (between 0,1). Whatever model has the best validation performance (the loss, written in the checkpoint filename, low is good) is the one you should use in the end.\n",
        "\n",
        ">It is very common in deep learning to run many different models with many different hyperparameter settings, and in the end take whatever checkpoint gave the best validation performance.\n",
        "\n",
        ">By the way, the size of your training and validation splits are also parameters. Make sure you have a decent amount of data in your validation set or otherwise the validation performance will be noisy and not very informative."
      ]
    },
    {
      "metadata": {
        "id": "zfNHsfE5b0Y0",
        "colab_type": "text"
      },
      "cell_type": "markdown",
      "source": [
        "## Checkpoint\n",
        "\n",
        "After training, we'll save the model so we can load it again later if we need too. Here I'm saving the parameters needed to create the same architecture, the hidden layer hyperparameters and the text characters."
      ]
    },
    {
      "metadata": {
        "id": "A4sdSHG2b0Y1",
        "colab_type": "code",
        "colab": {}
      },
      "cell_type": "code",
      "source": [
        "# change the name, for saving multiple files\n",
        "model_name = 'rnn_x_epoch.net'\n",
        "\n",
        "checkpoint = {'n_hidden': net.n_hidden,\n",
        "              'n_layers': net.n_layers,\n",
        "              'state_dict': net.state_dict(),\n",
        "              'tokens': net.chars}\n",
        "\n",
        "with open(model_name, 'wb') as f:\n",
        "    torch.save(checkpoint, f)"
      ],
      "execution_count": 0,
      "outputs": []
    },
    {
      "metadata": {
        "id": "-NVfujPab0Y3",
        "colab_type": "text"
      },
      "cell_type": "markdown",
      "source": [
        "---\n",
        "## Making Predictions\n",
        "\n",
        "Now that the model is trained, we'll want to sample from it and make predictions about next characters! To sample, we pass in a character and have the network predict the next character. Then we take that character, pass it back in, and get another predicted character. Just keep doing this and you'll generate a bunch of text!\n",
        "\n",
        "### A note on the `predict`  function\n",
        "\n",
        "The output of our RNN is from a fully-connected layer and it outputs a **distribution of next-character scores**.\n",
        "\n",
        "> To actually get the next character, we apply a softmax function, which gives us a *probability* distribution that we can then sample to predict the next character.\n",
        "\n",
        "### Top K sampling\n",
        "\n",
        "Our predictions come from a categorical probability distribution over all the possible characters. We can make the sample text and make it more reasonable to handle (with less variables) by only considering some $K$ most probable characters. This will prevent the network from giving us completely absurd characters while allowing it to introduce some noise and randomness into the sampled text. Read more about [topk, here](https://pytorch.org/docs/stable/torch.html#torch.topk).\n"
      ]
    },
    {
      "metadata": {
        "id": "WQ5V6prrb0Y4",
        "colab_type": "code",
        "colab": {}
      },
      "cell_type": "code",
      "source": [
        "def predict(net, char, h=None, top_k=None):\n",
        "        ''' Given a character, predict the next character.\n",
        "            Returns the predicted character and the hidden state.\n",
        "        '''\n",
        "        \n",
        "        # tensor inputs\n",
        "        x = np.array([[net.char2int[char]]])\n",
        "        x = one_hot_encode(x, len(net.chars))\n",
        "        inputs = torch.from_numpy(x)\n",
        "        \n",
        "        if(train_on_gpu):\n",
        "            inputs = inputs.cuda()\n",
        "        \n",
        "        # detach hidden state from history\n",
        "        h = tuple([each.data for each in h])\n",
        "        # get the output of the model\n",
        "        out, h = net(inputs, h)\n",
        "\n",
        "        # get the character probabilities\n",
        "        p = F.softmax(out, dim=1).data\n",
        "        if(train_on_gpu):\n",
        "            p = p.cpu() # move to cpu\n",
        "        \n",
        "        # get top characters\n",
        "        if top_k is None:\n",
        "            top_ch = np.arange(len(net.chars))\n",
        "        else:\n",
        "            p, top_ch = p.topk(top_k)\n",
        "            top_ch = top_ch.numpy().squeeze()\n",
        "        \n",
        "        # select the likely next character with some element of randomness\n",
        "        p = p.numpy().squeeze()\n",
        "        char = np.random.choice(top_ch, p=p/p.sum())\n",
        "        \n",
        "        # return the encoded value of the predicted char and the hidden state\n",
        "        return net.int2char[char], h"
      ],
      "execution_count": 0,
      "outputs": []
    },
    {
      "metadata": {
        "id": "DiSpu4J0b0Y5",
        "colab_type": "text"
      },
      "cell_type": "markdown",
      "source": [
        "### Priming and generating text \n",
        "\n",
        "Typically you'll want to prime the network so you can build up a hidden state. Otherwise the network will start out generating characters at random. In general the first bunch of characters will be a little rough since it hasn't built up a long history of characters to predict from."
      ]
    },
    {
      "metadata": {
        "id": "-LZXnRNTb0Y6",
        "colab_type": "code",
        "colab": {}
      },
      "cell_type": "code",
      "source": [
        "def sample(net, size, prime='The', top_k=None):\n",
        "        \n",
        "    if(train_on_gpu):\n",
        "        net.cuda()\n",
        "    else:\n",
        "        net.cpu()\n",
        "    \n",
        "    net.eval() # eval mode\n",
        "    \n",
        "    # First off, run through the prime characters\n",
        "    chars = [ch for ch in prime]\n",
        "    h = net.init_hidden(1)\n",
        "    for ch in prime:\n",
        "        char, h = predict(net, ch, h, top_k=top_k)\n",
        "\n",
        "    chars.append(char)\n",
        "    \n",
        "    # Now pass in the previous character and get a new one\n",
        "    for ii in range(size):\n",
        "        char, h = predict(net, chars[-1], h, top_k=top_k)\n",
        "        chars.append(char)\n",
        "\n",
        "    return ''.join(chars)"
      ],
      "execution_count": 0,
      "outputs": []
    },
    {
      "metadata": {
        "id": "5CTEAUYfb0Y9",
        "colab_type": "code",
        "colab": {
          "base_uri": "https://localhost:8080/",
          "height": 425
        },
        "outputId": "a928a098-898c-4f51-f880-a0d1ef0579c3"
      },
      "cell_type": "code",
      "source": [
        "print(sample(net, 1000, prime='Anna', top_k=5))"
      ],
      "execution_count": 87,
      "outputs": [
        {
          "output_type": "stream",
          "text": [
            "Anna, who\n",
            "had been delightful and\n",
            "stood as a man who had been definitely asking herself.\n",
            "\n",
            "As a more fertart of the coming the\n",
            "sounded of all their worth, and\n",
            "thene through the forest instants of success and a men of almost the marsh of the\n",
            "childrang. Then she had been discussed.\n",
            "The corract of his\n",
            "eyes, his\n",
            "brother he wanted to see to him in a soul with a forg of heart and took him, and\n",
            "still made\n",
            "a life to ask her so it was the prince and the princess had been so as to day and at his wished. He stopped,\n",
            "he saw that the fearful\n",
            "things started at the field. He foldow a position\n",
            "was to go away. And was in the provess, though she was trying to give it to\n",
            "him,\n",
            "and with them with the sun, that had seemed to her, he stured, showed her to\n",
            "the birds, and at the time he husband. \"Well, what way to the marriage and an old minute,\" said\n",
            "Atef.\n",
            "\n",
            "\"You, I say is to do, but I can't hear, then, and, and the coats of his wife.\"\n",
            "\n",
            "\"We have the few monithts of that cilluse men take a sine of his movements in th\n"
          ],
          "name": "stdout"
        }
      ]
    },
    {
      "metadata": {
        "id": "o-bevSubb0Y_",
        "colab_type": "text"
      },
      "cell_type": "markdown",
      "source": [
        "## Loading a checkpoint"
      ]
    },
    {
      "metadata": {
        "id": "tvPmtT3xb0ZA",
        "colab_type": "code",
        "colab": {}
      },
      "cell_type": "code",
      "source": [
        "# Here we have loaded in a model that trained over 20 epochs `rnn_20_epoch.net`\n",
        "with open('rnn_x_epoch.net', 'rb') as f:\n",
        "    checkpoint = torch.load(f)\n",
        "    \n",
        "loaded = CharRNN(checkpoint['tokens'], n_hidden=checkpoint['n_hidden'], n_layers=checkpoint['n_layers'])\n",
        "loaded.load_state_dict(checkpoint['state_dict'])"
      ],
      "execution_count": 0,
      "outputs": []
    },
    {
      "metadata": {
        "id": "qKkPczQxb0ZD",
        "colab_type": "code",
        "colab": {}
      },
      "cell_type": "code",
      "source": [
        "# Sample using a loaded model\n",
        "print(sample(loaded, 2000, top_k=5, prime=\"And Levin said\"))"
      ],
      "execution_count": 0,
      "outputs": []
    },
    {
      "metadata": {
        "id": "nA-3ucTxb0ZF",
        "colab_type": "code",
        "colab": {}
      },
      "cell_type": "code",
      "source": [
        ""
      ],
      "execution_count": 0,
      "outputs": []
    }
  ]
}