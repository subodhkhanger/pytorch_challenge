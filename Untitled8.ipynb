{
  "nbformat": 4,
  "nbformat_minor": 0,
  "metadata": {
    "colab": {
      "name": "Untitled8.ipynb",
      "version": "0.3.2",
      "provenance": [],
      "include_colab_link": true
    },
    "kernelspec": {
      "name": "python3",
      "display_name": "Python 3"
    },
    "accelerator": "GPU"
  },
  "cells": [
    {
      "cell_type": "markdown",
      "metadata": {
        "id": "view-in-github",
        "colab_type": "text"
      },
      "source": [
        "<a href=\"https://colab.research.google.com/github/subodhkhanger/pytorch_challenge/blob/master/Untitled8.ipynb\" target=\"_parent\"><img src=\"https://colab.research.google.com/assets/colab-badge.svg\" alt=\"Open In Colab\"/></a>"
      ]
    },
    {
      "metadata": {
        "id": "wOAk4JyFyCOs",
        "colab_type": "code",
        "colab": {}
      },
      "cell_type": "code",
      "source": [
        "# Imports here\n",
        "import matplotlib.pyplot as plt\n",
        "import numpy as np\n",
        "import torch\n",
        "from torch import nn\n",
        "from torch import optim\n",
        "import torch.nn.functional as F\n",
        "from torchvision import datasets, transforms, models\n",
        "import torchvision.models as models\n",
        "from PIL import Image\n",
        "import json\n",
        "from matplotlib.ticker import FormatStrFormatter"
      ],
      "execution_count": 0,
      "outputs": []
    },
    {
      "metadata": {
        "id": "6Zxko1v9yYIt",
        "colab_type": "code",
        "colab": {}
      },
      "cell_type": "code",
      "source": [
        "data_dir = './flower_data'\n",
        "train_dir = data_dir + '/train'\n",
        "valid_dir = data_dir + '/valid'\n",
        "test_dir = data_dir + '/test'"
      ],
      "execution_count": 0,
      "outputs": []
    },
    {
      "metadata": {
        "id": "a3-PRcnIyg51",
        "colab_type": "code",
        "colab": {}
      },
      "cell_type": "code",
      "source": [
        "# TODO: Define your transforms for the training, validation, and testing sets\n",
        "train_transforms = transforms.Compose([transforms.RandomRotation(30),\n",
        "                                       transforms.RandomResizedCrop(224),\n",
        "                                       transforms.RandomHorizontalFlip(),\n",
        "                                       transforms.ToTensor(),\n",
        "                                       transforms.Normalize([0.485, 0.456, 0.406], \n",
        "                                                            [0.229, 0.224, 0.225])])\n",
        "\n",
        "\n",
        "validation_transforms = transforms.Compose([transforms.Resize(256),\n",
        "                                            transforms.CenterCrop(224),\n",
        "                                            transforms.ToTensor(),\n",
        "                                            transforms.Normalize([0.485, 0.456, 0.406], \n",
        "                                                                 [0.229, 0.224, 0.225])])\n",
        "\n",
        "\n",
        "# TODO: Load the datasets with ImageFolder\n",
        "train_data = datasets.ImageFolder(train_dir, transform=train_transforms)\n",
        "validation_data = datasets.ImageFolder(valid_dir, transform=validation_transforms)\n",
        "#test_data = datasets.ImageFolder(test_dir ,transform = test_transforms)\n",
        "\n",
        "# TODO: Using the image datasets and the trainforms, define the dataloaders\n",
        "trainloader = torch.utils.data.DataLoader(train_data, batch_size=64, shuffle=True)\n",
        "vloader = torch.utils.data.DataLoader(validation_data, batch_size =32,shuffle = True)\n",
        "#testloader = torch.utils.data.DataLoader(test_data, batch_size = 20, shuffle = True)"
      ],
      "execution_count": 0,
      "outputs": []
    },
    {
      "metadata": {
        "id": "qkvkwKM4yyX9",
        "colab_type": "code",
        "colab": {}
      },
      "cell_type": "code",
      "source": [
        "\n",
        "import json\n",
        "\n",
        "with open('cat_to_name.json', 'r') as f:\n",
        "    cat_to_name = json.load(f)"
      ],
      "execution_count": 0,
      "outputs": []
    },
    {
      "metadata": {
        "id": "_psrRaapy4v9",
        "colab_type": "code",
        "colab": {}
      },
      "cell_type": "code",
      "source": [
        "structures = {\"vgg16\":25088,\n",
        "              \"densenet121\" : 1024,\n",
        "              \"densenet201\" : 1920,\n",
        "              \"alexnet\" : 9216 }"
      ],
      "execution_count": 0,
      "outputs": []
    },
    {
      "metadata": {
        "id": "bQgPk_a7y7ue",
        "colab_type": "code",
        "outputId": "b7eaa4be-0761-4363-e8d5-7e8b21b81502",
        "colab": {
          "base_uri": "https://localhost:8080/",
          "height": 317
        }
      },
      "cell_type": "code",
      "source": [
        "def nn_setup(structure='vgg16',dropout=0.5, hidden_layer1 = 120,lr = 0.001):\n",
        "    \n",
        "    \n",
        "    if structure == 'vgg16':\n",
        "        model = models.vgg16(pretrained=True)        \n",
        "    elif structure == 'densenet121':\n",
        "        model = models.densenet121(pretrained=True)\n",
        "    elif structure == 'densenet201':\n",
        "        model = models.densenet121(pretrained=True)\n",
        "    elif structure == 'alexnet':\n",
        "        model = models.alexnet(pretrained = True)\n",
        "    else:\n",
        "        print(\"Im sorry but {} is not a valid model.Did you mean vgg16,densenet121,or alexnet?\".format(structure))\n",
        "        \n",
        "    \n",
        "        \n",
        "    for param in model.parameters():\n",
        "        param.requires_grad = False\n",
        "\n",
        "        from collections import OrderedDict\n",
        "        classifier = nn.Sequential(OrderedDict([\n",
        "            ('dropout',nn.Dropout(dropout)),\n",
        "            ('inputs', nn.Linear(1024, hidden_layer1)),\n",
        "            ('relu1', nn.ReLU()),\n",
        "            ('hidden_layer1', nn.Linear(hidden_layer1, 90)),\n",
        "            ('relu2',nn.ReLU()),\n",
        "            ('hidden_layer2',nn.Linear(90,80)),\n",
        "            ('relu3',nn.ReLU()),\n",
        "            ('hidden_layer3',nn.Linear(80,102)),\n",
        "            ('output', nn.LogSoftmax(dim=1))\n",
        "                          ]))\n",
        "        \n",
        "        \n",
        "        model.classifier = classifier\n",
        "        criterion = nn.NLLLoss()\n",
        "        optimizer = optim.Adam(model.classifier.parameters(), lr )\n",
        "        device = torch.device(\"cuda:0\" if torch.cuda.is_available() else \"cpu\")\n",
        "        print(device)\n",
        "        model.to(device)\n",
        "        \n",
        "        return model , optimizer ,criterion \n",
        "\n",
        "    \n",
        "\n",
        "model,optimizer,criterion = nn_setup('densenet121')"
      ],
      "execution_count": 1,
      "outputs": [
        {
          "output_type": "error",
          "ename": "NameError",
          "evalue": "ignored",
          "traceback": [
            "\u001b[0;31m---------------------------------------------------------------------------\u001b[0m",
            "\u001b[0;31mNameError\u001b[0m                                 Traceback (most recent call last)",
            "\u001b[0;32m<ipython-input-1-7edc4b79b06a>\u001b[0m in \u001b[0;36m<module>\u001b[0;34m()\u001b[0m\n\u001b[1;32m     43\u001b[0m \u001b[0;34m\u001b[0m\u001b[0m\n\u001b[1;32m     44\u001b[0m \u001b[0;34m\u001b[0m\u001b[0m\n\u001b[0;32m---> 45\u001b[0;31m \u001b[0mmodel\u001b[0m\u001b[0;34m,\u001b[0m\u001b[0moptimizer\u001b[0m\u001b[0;34m,\u001b[0m\u001b[0mcriterion\u001b[0m \u001b[0;34m=\u001b[0m \u001b[0mnn_setup\u001b[0m\u001b[0;34m(\u001b[0m\u001b[0;34m'densenet121'\u001b[0m\u001b[0;34m)\u001b[0m\u001b[0;34m\u001b[0m\u001b[0;34m\u001b[0m\u001b[0m\n\u001b[0m",
            "\u001b[0;32m<ipython-input-1-7edc4b79b06a>\u001b[0m in \u001b[0;36mnn_setup\u001b[0;34m(structure, dropout, hidden_layer1, lr)\u001b[0m\n\u001b[1;32m      5\u001b[0m         \u001b[0mmodel\u001b[0m \u001b[0;34m=\u001b[0m \u001b[0mmodels\u001b[0m\u001b[0;34m.\u001b[0m\u001b[0mvgg16\u001b[0m\u001b[0;34m(\u001b[0m\u001b[0mpretrained\u001b[0m\u001b[0;34m=\u001b[0m\u001b[0;32mTrue\u001b[0m\u001b[0;34m)\u001b[0m\u001b[0;34m\u001b[0m\u001b[0;34m\u001b[0m\u001b[0m\n\u001b[1;32m      6\u001b[0m     \u001b[0;32melif\u001b[0m \u001b[0mstructure\u001b[0m \u001b[0;34m==\u001b[0m \u001b[0;34m'densenet121'\u001b[0m\u001b[0;34m:\u001b[0m\u001b[0;34m\u001b[0m\u001b[0;34m\u001b[0m\u001b[0m\n\u001b[0;32m----> 7\u001b[0;31m         \u001b[0mmodel\u001b[0m \u001b[0;34m=\u001b[0m \u001b[0mmodels\u001b[0m\u001b[0;34m.\u001b[0m\u001b[0mdensenet121\u001b[0m\u001b[0;34m(\u001b[0m\u001b[0mpretrained\u001b[0m\u001b[0;34m=\u001b[0m\u001b[0;32mTrue\u001b[0m\u001b[0;34m)\u001b[0m\u001b[0;34m\u001b[0m\u001b[0;34m\u001b[0m\u001b[0m\n\u001b[0m\u001b[1;32m      8\u001b[0m     \u001b[0;32melif\u001b[0m \u001b[0mstructure\u001b[0m \u001b[0;34m==\u001b[0m \u001b[0;34m'densenet201'\u001b[0m\u001b[0;34m:\u001b[0m\u001b[0;34m\u001b[0m\u001b[0;34m\u001b[0m\u001b[0m\n\u001b[1;32m      9\u001b[0m         \u001b[0mmodel\u001b[0m \u001b[0;34m=\u001b[0m \u001b[0mmodels\u001b[0m\u001b[0;34m.\u001b[0m\u001b[0mdensenet121\u001b[0m\u001b[0;34m(\u001b[0m\u001b[0mpretrained\u001b[0m\u001b[0;34m=\u001b[0m\u001b[0;32mTrue\u001b[0m\u001b[0;34m)\u001b[0m\u001b[0;34m\u001b[0m\u001b[0;34m\u001b[0m\u001b[0m\n",
            "\u001b[0;31mNameError\u001b[0m: name 'models' is not defined"
          ]
        }
      ]
    },
    {
      "metadata": {
        "id": "eunVuH1hy8kO",
        "colab_type": "code",
        "colab": {}
      },
      "cell_type": "code",
      "source": [
        "\n",
        "epochs = 12\n",
        "print_every = 5\n",
        "steps = 0\n",
        "loss_show=[]\n",
        "device = torch.device(\"cuda:0\" if torch.cuda.is_available() else \"cpu\")\n",
        "print(device)\n",
        "# change to cuda\n",
        "model.to(device)\n",
        "\n",
        "for e in range(epochs):\n",
        "    running_loss = 0\n",
        "    for ii, (inputs, labels) in enumerate(trainloader):\n",
        "        steps += 1\n",
        "        \n",
        "        inputs,labels = inputs.to(device), labels.to(device)\n",
        "        \n",
        "        optimizer.zero_grad()\n",
        "        \n",
        "        # Forward and backward passes\n",
        "        outputs = model.forward(inputs)\n",
        "        loss = criterion(outputs, labels)\n",
        "        loss.backward()\n",
        "        optimizer.step()\n",
        "        \n",
        "        running_loss += loss.item()\n",
        "        \n",
        "        if steps % print_every == 0:\n",
        "            model.eval()\n",
        "            vlost = 0\n",
        "            accuracy=0\n",
        "            \n",
        "            \n",
        "            for ii, (inputs2,labels2) in enumerate(vloader):\n",
        "                optimizer.zero_grad()\n",
        "                \n",
        "                inputs2, labels2 = inputs2.to(device) , labels2.to(device)\n",
        "                model.to(device)\n",
        "                with torch.no_grad():    \n",
        "                    outputs = model.forward(inputs2)\n",
        "                    vlost = criterion(outputs,labels2)\n",
        "                    ps = torch.exp(outputs).data\n",
        "                    equality = (labels2.data == ps.max(1)[1])\n",
        "                    accuracy += equality.type_as(torch.FloatTensor()).mean()\n",
        "                    \n",
        "            vlost = vlost / len(vloader)\n",
        "            accuracy = accuracy /len(vloader)\n",
        "            \n",
        "                    \n",
        "            \n",
        "            print(\"Epoch: {}/{}... \".format(e+1, epochs),\n",
        "                  \"Loss: {:.4f}\".format(running_loss/print_every),\n",
        "                  \"Validation Lost {:.4f}\".format(vlost),\n",
        "                   \"Accuracy: {:.4f}\".format(accuracy))\n",
        "            \n",
        "            \n",
        "            running_loss = 0"
      ],
      "execution_count": 0,
      "outputs": []
    }
  ]
}